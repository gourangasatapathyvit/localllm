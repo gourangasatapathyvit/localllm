{
 "cells": [
  {
   "cell_type": "code",
   "execution_count": 1,
   "metadata": {},
   "outputs": [
    {
     "name": "stderr",
     "output_type": "stream",
     "text": [
      "c:\\Users\\pulus\\anaconda3\\envs\\sql_llm\\Lib\\site-packages\\tqdm\\auto.py:21: TqdmWarning: IProgress not found. Please update jupyter and ipywidgets. See https://ipywidgets.readthedocs.io/en/stable/user_install.html\n",
      "  from .autonotebook import tqdm as notebook_tqdm\n"
     ]
    }
   ],
   "source": [
    "import os\n",
    "os.environ['KMP_DUPLICATE_LIB_OK'] = 'True'\n",
    "import pandas as pd\n",
    "from datasets import Dataset,load_from_disk\n",
    "from peft import LoraConfig, get_peft_model\n",
    "import torch\n",
    "from transformers import AutoTokenizer, AutoModelForCausalLM, TrainingArguments, Trainer, DataCollatorForLanguageModeling\n",
    "from accelerate import Accelerator\n",
    "# !pip install tensorboard"
   ]
  },
  {
   "cell_type": "code",
   "execution_count": 2,
   "metadata": {},
   "outputs": [
    {
     "name": "stderr",
     "output_type": "stream",
     "text": [
      "C:\\Users\\pulus\\AppData\\Local\\Temp\\ipykernel_22392\\2696842168.py:4: FutureWarning: Setting an item of incompatible dtype is deprecated and will raise an error in a future version of pandas. Value '' has dtype incompatible with float64, please explicitly cast to a compatible dtype first.\n",
      "  df.fillna(\"\", inplace=True)\n",
      "C:\\Users\\pulus\\AppData\\Local\\Temp\\ipykernel_22392\\2696842168.py:13: FutureWarning: A value is trying to be set on a copy of a DataFrame or Series through chained assignment using an inplace method.\n",
      "The behavior will change in pandas 3.0. This inplace method will never work because the intermediate object on which we are setting values always behaves as a copy.\n",
      "\n",
      "For example, when doing 'df[col].method(value, inplace=True)', try using 'df.method({col: value}, inplace=True)' or df[col] = df[col].method(value) instead, to perform the operation inplace on the original object.\n",
      "\n",
      "\n",
      "  df[\"min_amount\"].fillna(0, inplace=True)\n",
      "C:\\Users\\pulus\\AppData\\Local\\Temp\\ipykernel_22392\\2696842168.py:14: FutureWarning: A value is trying to be set on a copy of a DataFrame or Series through chained assignment using an inplace method.\n",
      "The behavior will change in pandas 3.0. This inplace method will never work because the intermediate object on which we are setting values always behaves as a copy.\n",
      "\n",
      "For example, when doing 'df[col].method(value, inplace=True)', try using 'df.method({col: value}, inplace=True)' or df[col] = df[col].method(value) instead, to perform the operation inplace on the original object.\n",
      "\n",
      "\n",
      "  df[\"max_amount\"].fillna(0, inplace=True)\n",
      "C:\\Users\\pulus\\AppData\\Local\\Temp\\ipykernel_22392\\2696842168.py:15: FutureWarning: A value is trying to be set on a copy of a DataFrame or Series through chained assignment using an inplace method.\n",
      "The behavior will change in pandas 3.0. This inplace method will never work because the intermediate object on which we are setting values always behaves as a copy.\n",
      "\n",
      "For example, when doing 'df[col].method(value, inplace=True)', try using 'df.method({col: value}, inplace=True)' or df[col] = df[col].method(value) instead, to perform the operation inplace on the original object.\n",
      "\n",
      "\n",
      "  df[\"mean_salary\"].fillna(0, inplace=True)\n",
      "C:\\Users\\pulus\\AppData\\Local\\Temp\\ipykernel_22392\\2696842168.py:16: FutureWarning: A value is trying to be set on a copy of a DataFrame or Series through chained assignment using an inplace method.\n",
      "The behavior will change in pandas 3.0. This inplace method will never work because the intermediate object on which we are setting values always behaves as a copy.\n",
      "\n",
      "For example, when doing 'df[col].method(value, inplace=True)', try using 'df.method({col: value}, inplace=True)' or df[col] = df[col].method(value) instead, to perform the operation inplace on the original object.\n",
      "\n",
      "\n",
      "  df[\"is_remote\"].fillna(0, inplace=True)\n"
     ]
    }
   ],
   "source": [
    "df = pd.read_excel(\"./all_jobs - Copy.xlsx\") \n",
    "df = df[['title', 'company', 'min_amount', 'max_amount','mean_salary', 'currency', 'is_remote', 'cleaned_description']]\n",
    "df = df.head(5000)\n",
    "df.fillna(\"\", inplace=True)\n",
    "# Clean and convert salary columns before feeding into Dataset\n",
    "df[\"min_amount\"] = pd.to_numeric(df[\"min_amount\"], errors=\"coerce\")\n",
    "df[\"max_amount\"] = pd.to_numeric(df[\"max_amount\"], errors=\"coerce\")\n",
    "df[\"mean_salary\"] = pd.to_numeric(df[\"mean_salary\"], errors=\"coerce\")\n",
    "df[\"is_remote\"] = pd.to_numeric(df[\"is_remote\"], errors=\"coerce\")\n",
    "\n",
    "\n",
    "# Optionally fill NaNs with a default value (e.g., 0 or None)\n",
    "df[\"min_amount\"].fillna(0, inplace=True)\n",
    "df[\"max_amount\"].fillna(0, inplace=True)\n",
    "df[\"mean_salary\"].fillna(0, inplace=True)\n",
    "df[\"is_remote\"].fillna(0, inplace=True)\n"
   ]
  },
  {
   "cell_type": "code",
   "execution_count": 3,
   "metadata": {},
   "outputs": [
    {
     "data": {
      "text/html": [
       "<div>\n",
       "<style scoped>\n",
       "    .dataframe tbody tr th:only-of-type {\n",
       "        vertical-align: middle;\n",
       "    }\n",
       "\n",
       "    .dataframe tbody tr th {\n",
       "        vertical-align: top;\n",
       "    }\n",
       "\n",
       "    .dataframe thead th {\n",
       "        text-align: right;\n",
       "    }\n",
       "</style>\n",
       "<table border=\"1\" class=\"dataframe\">\n",
       "  <thead>\n",
       "    <tr style=\"text-align: right;\">\n",
       "      <th></th>\n",
       "      <th>company</th>\n",
       "      <th>min_amount</th>\n",
       "      <th>cleaned_description</th>\n",
       "    </tr>\n",
       "  </thead>\n",
       "  <tbody>\n",
       "    <tr>\n",
       "      <th>0</th>\n",
       "      <td>RISCPoint</td>\n",
       "      <td>105000.0</td>\n",
       "      <td>riscpoint is seeking a conceptual thinker with...</td>\n",
       "    </tr>\n",
       "    <tr>\n",
       "      <th>1</th>\n",
       "      <td>MarketAxess Holdings</td>\n",
       "      <td>150000.0</td>\n",
       "      <td>company description marketaxess is on a journe...</td>\n",
       "    </tr>\n",
       "    <tr>\n",
       "      <th>2</th>\n",
       "      <td>Global Resource Solutions</td>\n",
       "      <td>84617.0</td>\n",
       "      <td>global resource solutions, inc. (grs) is seeki...</td>\n",
       "    </tr>\n",
       "    <tr>\n",
       "      <th>3</th>\n",
       "      <td>Cole Engineering Services, Inc</td>\n",
       "      <td>105000.0</td>\n",
       "      <td>**company overview:** by light professional it...</td>\n",
       "    </tr>\n",
       "    <tr>\n",
       "      <th>4</th>\n",
       "      <td>MUFG</td>\n",
       "      <td>83000.0</td>\n",
       "      <td>**do you want your voice heard and your action...</td>\n",
       "    </tr>\n",
       "    <tr>\n",
       "      <th>5</th>\n",
       "      <td>Zion Zest LLC</td>\n",
       "      <td>117239.0</td>\n",
       "      <td>**overview** we are seeking a knowledgeable an...</td>\n",
       "    </tr>\n",
       "    <tr>\n",
       "      <th>6</th>\n",
       "      <td>Ngrecruitments</td>\n",
       "      <td>0.0</td>\n",
       "      <td>**role: identity and access management sailpoi...</td>\n",
       "    </tr>\n",
       "    <tr>\n",
       "      <th>7</th>\n",
       "      <td>MobileIT LLC</td>\n",
       "      <td>68430.0</td>\n",
       "      <td>**job summary** we are seeking a skilled and m...</td>\n",
       "    </tr>\n",
       "    <tr>\n",
       "      <th>8</th>\n",
       "      <td>VikingCloud</td>\n",
       "      <td>126318.0</td>\n",
       "      <td>**senior security consultan****t** **location:...</td>\n",
       "    </tr>\n",
       "    <tr>\n",
       "      <th>9</th>\n",
       "      <td>Innovation Associates, Inc.</td>\n",
       "      <td>115023.0</td>\n",
       "      <td>**the role:** as a sr. cloud architect you wil...</td>\n",
       "    </tr>\n",
       "  </tbody>\n",
       "</table>\n",
       "</div>"
      ],
      "text/plain": [
       "                          company  min_amount  \\\n",
       "0                       RISCPoint    105000.0   \n",
       "1            MarketAxess Holdings    150000.0   \n",
       "2       Global Resource Solutions     84617.0   \n",
       "3  Cole Engineering Services, Inc    105000.0   \n",
       "4                            MUFG     83000.0   \n",
       "5                   Zion Zest LLC    117239.0   \n",
       "6                  Ngrecruitments         0.0   \n",
       "7                    MobileIT LLC     68430.0   \n",
       "8                     VikingCloud    126318.0   \n",
       "9     Innovation Associates, Inc.    115023.0   \n",
       "\n",
       "                                 cleaned_description  \n",
       "0  riscpoint is seeking a conceptual thinker with...  \n",
       "1  company description marketaxess is on a journe...  \n",
       "2  global resource solutions, inc. (grs) is seeki...  \n",
       "3  **company overview:** by light professional it...  \n",
       "4  **do you want your voice heard and your action...  \n",
       "5  **overview** we are seeking a knowledgeable an...  \n",
       "6  **role: identity and access management sailpoi...  \n",
       "7  **job summary** we are seeking a skilled and m...  \n",
       "8  **senior security consultan****t** **location:...  \n",
       "9  **the role:** as a sr. cloud architect you wil...  "
      ]
     },
     "execution_count": 3,
     "metadata": {},
     "output_type": "execute_result"
    }
   ],
   "source": [
    "df.head(10)[[\"company\", \"min_amount\",'cleaned_description']]"
   ]
  },
  {
   "cell_type": "code",
   "execution_count": 4,
   "metadata": {},
   "outputs": [],
   "source": [
    "def generate_qa_pairs(row):\n",
    "    \n",
    "    base = (\n",
    "        f\"Title: {row['title']}\\n\"\n",
    "        f\"Company: {row['company']}\\n\"\n",
    "        f\"Salary: {row['min_amount']}-{row['max_amount']} {row['currency']}\\n\"\n",
    "        f\"Remote: {'Yes' if row['is_remote'] else 'No'}\\n\"\n",
    "        f\"description: {row['cleaned_description']}\\n\"\n",
    "    )\n",
    "    return {\n",
    "        \"question\": f\"Tell me about {row['title']} position at {row['company']}\",\n",
    "        \"answer\": base\n",
    "    }\n"
   ]
  },
  {
   "cell_type": "code",
   "execution_count": 5,
   "metadata": {},
   "outputs": [
    {
     "name": "stderr",
     "output_type": "stream",
     "text": [
      "Map: 100%|██████████| 500/500 [00:00<00:00, 8581.10 examples/s]\n",
      "Saving the dataset (1/1 shards): 100%|██████████| 500/500 [00:00<00:00, 49019.49 examples/s]\n"
     ]
    }
   ],
   "source": [
    "single_record_df = df.head(500)\n",
    "dataset  =Dataset.from_pandas(single_record_df).map(generate_qa_pairs)\n",
    "dataset.save_to_disk(\"jobs_qa_dataset\")\n",
    "# dataset"
   ]
  },
  {
   "cell_type": "code",
   "execution_count": 6,
   "metadata": {},
   "outputs": [],
   "source": [
    "def tokenize_function(examples):\n",
    "    texts = [f\"Question: {q}\\nAnswer: {a}\" for q, a in zip(examples[\"question\"], examples[\"answer\"])]\n",
    "    return tokenizer(texts, truncation=True, padding=\"max_length\", max_length=256)"
   ]
  },
  {
   "cell_type": "code",
   "execution_count": 7,
   "metadata": {},
   "outputs": [
    {
     "name": "stderr",
     "output_type": "stream",
     "text": [
      "The `load_in_4bit` and `load_in_8bit` arguments are deprecated and will be removed in the future versions. Please, pass a `BitsAndBytesConfig` object in `quantization_config` argument instead.\n",
      "Loading checkpoint shards: 100%|██████████| 2/2 [00:08<00:00,  4.37s/it]\n"
     ]
    }
   ],
   "source": [
    "model = AutoModelForCausalLM.from_pretrained(\n",
    "    \"microsoft/phi-2\",\n",
    "    torch_dtype=torch.float16,\n",
    "    device_map=\"auto\",\n",
    "    llm_int8_enable_fp32_cpu_offload=True ,\n",
    "    load_in_4bit=True  # Critical for 100K samples\n",
    ")\n",
    "\n",
    "peft_config = LoraConfig(\n",
    "    r=16,  # Higher rank for complex job data\n",
    "    lora_alpha=32,\n",
    "    target_modules=[\"Wqkv\", \"fc1\", \"fc2\"],\n",
    "    bias=\"none\",\n",
    "    task_type=\"CAUSAL_LM\"\n",
    ")\n",
    "model = get_peft_model(model, peft_config)\n",
    "tokenizer = AutoTokenizer.from_pretrained(\"microsoft/phi-2\", trust_remote_code=True)\n",
    "tokenizer.pad_token = tokenizer.eos_token"
   ]
  },
  {
   "cell_type": "code",
   "execution_count": 8,
   "metadata": {},
   "outputs": [
    {
     "name": "stderr",
     "output_type": "stream",
     "text": [
      "Map: 100%|██████████| 500/500 [00:00<00:00, 2116.68 examples/s]\n"
     ]
    }
   ],
   "source": [
    "dataset = load_from_disk(\"./jobs_qa_dataset/\").map(tokenize_function, batched=True)"
   ]
  },
  {
   "cell_type": "code",
   "execution_count": 9,
   "metadata": {},
   "outputs": [
    {
     "name": "stdout",
     "output_type": "stream",
     "text": [
      "{'title': ['Cybersecurity Operations Senior Consultant'], 'company': ['RISCPoint'], 'min_amount': [105000.0], 'max_amount': [135000.0], 'mean_salary': [120000.0], 'currency': ['USD'], 'is_remote': [1.0], 'cleaned_description': ['riscpoint is seeking a conceptual thinker with the ability to understand and lead client cybersecurity programs and objectives at an elevated technical level. ### **description** **about the company** riscpoint is a partner-owned, rapidly growing and leading cybersecurity and compliance consultancy firm. we are a tight-knit team of experienced professionals that focus on integrating seamlessly with our clients to harmonize security and compliance obligations with business success. we are looking for talented professionals, passionate about the industry, to join our team and make a meaningful impact in the industry. we value continuous improvement, personal growth, learning and mentoring. we believe that when we are at our best, we provide the most value to our clients and our teammates respectively. are you looking to elevate your career? do you want opportunities for growth and leadership? do you have an entrepreneurial mindset? **key responsibilities:** riscpoint is seeking a conceptual thinker with the ability to understand and lead client cybersecurity programs and objectives at an elevated technical level. as a *cybersecurity operations senior consultant,* your engagement as a problem-solver with a self-driven attitude and excellent communication skills will play a crucial role in identifying, developing, and implementing cybersecurity solutions that empower organizations to achieve their security mission. adaptable, flexible, and open-minded expertise will contribute to the dynamic needs of clients across various cybersecurity frameworks and compliance goals. **responsibilities include:*** advise riscpoint clients regarding information security best practice and broader compliance programs in support of industry leading standards aligned with organizational security objectives * advise and oversee client security operations, including incident response (ir), business continuity & disaster recovery (bcdr), security training, vulnerability analysis, and third-party risk management. * conduct client workshops and walkthrough meetings to develop and implement enhanced operations across people, process, and technology controls to position client solutions for favorable evaluation and assessment. * roadmap security programs tailored to client needs, assessing risks and rewards related to cybersecurity decisions, and providing regular updates and owning critical deliverables. * collaborate on cloud architecture solutions across leading platforms such as amazon web services (aws), microsoft azure, and google cloud platform (gcp). * ensure compliance with relevant cybersecurity compliance frameworks in public sector, private sector, and healthcare industries: such as iso, nist, and soc. * lead security training, exercises, and simulations for unified security initiatives. * engineer internal cyber operations processes to enhance efficiency and effectiveness across multiple departments and teams within riscpoint. * coordinate with partnerships across audit firms, managed service providers, regulators and other third parties to drive business outcomes for our clients. **qualifications:****experience*** 2 – 4 years of successful industry experience in information security and technology. * foundational network and security architecture knowledge. * understanding of cloud solutions and security technology to support security domains across access control, encryption, identity and access management (iam), endpoint detection and response (edr), auditing and logging, and system development * exposure to modern cybersecurity compliance frameworks: + nist: nist 800-53, 800-61, 800-63, 800-171, etc. + commercial: iso, soc + healthcare: hipaa, hitrust + public sector: fedramp, cmmc **certifications*** comptia security+ (sec+) or equivalent * active or pursued advanced security technical certifications and cloud security certifications are a plus + cism, cissp, casp+, or equivalent + aws fundamental, associate, or professional-level certifications + azure fundamental, associate, or expert-level certifications + desire for continued education through certification and security conferences **skills*** effective management of client expectations, relationship, and trust * independent ownership of objectives, milestones, and deadlines for success * effective leadership and collaboration of internal and external project teams * clear and concise client-facing communication * success within a dynamic and adaptable environment dependent on unique client needs * driven inquisitive mindset and appetite for challenge **compensation & benefits*** generous salary + bonus opportunity * company paid health insurance * company paid vision insurance * company paid life insurance * 401k with 3% company contribution (traditional & roth options) * flexible vacation policy * annual company retreat #### **salary** $105,000 - $135,000 per year'], 'question': ['Tell me about Cybersecurity Operations Senior Consultant position at RISCPoint'], 'answer': ['Title: Cybersecurity Operations Senior Consultant\\nCompany: RISCPoint\\nSalary: 105000.0-135000.0 USD\\nRemote: Yes\\ndescription: riscpoint is seeking a conceptual thinker with the ability to understand and lead client cybersecurity programs and objectives at an elevated technical level. ### **description** **about the company** riscpoint is a partner-owned, rapidly growing and leading cybersecurity and compliance consultancy firm. we are a tight-knit team of experienced professionals that focus on integrating seamlessly with our clients to harmonize security and compliance obligations with business success. we are looking for talented professionals, passionate about the industry, to join our team and make a meaningful impact in the industry. we value continuous improvement, personal growth, learning and mentoring. we believe that when we are at our best, we provide the most value to our clients and our teammates respectively. are you looking to elevate your career? do you want opportunities for growth and leadership? do you have an entrepreneurial mindset? **key responsibilities:** riscpoint is seeking a conceptual thinker with the ability to understand and lead client cybersecurity programs and objectives at an elevated technical level. as a *cybersecurity operations senior consultant,* your engagement as a problem-solver with a self-driven attitude and excellent communication skills will play a crucial role in identifying, developing, and implementing cybersecurity solutions that empower organizations to achieve their security mission. adaptable, flexible, and open-minded expertise will contribute to the dynamic needs of clients across various cybersecurity frameworks and compliance goals. **responsibilities include:*** advise riscpoint clients regarding information security best practice and broader compliance programs in support of industry leading standards aligned with organizational security objectives * advise and oversee client security operations, including incident response (ir), business continuity & disaster recovery (bcdr), security training, vulnerability analysis, and third-party risk management. * conduct client workshops and walkthrough meetings to develop and implement enhanced operations across people, process, and technology controls to position client solutions for favorable evaluation and assessment. * roadmap security programs tailored to client needs, assessing risks and rewards related to cybersecurity decisions, and providing regular updates and owning critical deliverables. * collaborate on cloud architecture solutions across leading platforms such as amazon web services (aws), microsoft azure, and google cloud platform (gcp). * ensure compliance with relevant cybersecurity compliance frameworks in public sector, private sector, and healthcare industries: such as iso, nist, and soc. * lead security training, exercises, and simulations for unified security initiatives. * engineer internal cyber operations processes to enhance efficiency and effectiveness across multiple departments and teams within riscpoint. * coordinate with partnerships across audit firms, managed service providers, regulators and other third parties to drive business outcomes for our clients. **qualifications:****experience*** 2 – 4 years of successful industry experience in information security and technology. * foundational network and security architecture knowledge. * understanding of cloud solutions and security technology to support security domains across access control, encryption, identity and access management (iam), endpoint detection and response (edr), auditing and logging, and system development * exposure to modern cybersecurity compliance frameworks: + nist: nist 800-53, 800-61, 800-63, 800-171, etc. + commercial: iso, soc + healthcare: hipaa, hitrust + public sector: fedramp, cmmc **certifications*** comptia security+ (sec+) or equivalent * active or pursued advanced security technical certifications and cloud security certifications are a plus + cism, cissp, casp+, or equivalent + aws fundamental, associate, or professional-level certifications + azure fundamental, associate, or expert-level certifications + desire for continued education through certification and security conferences **skills*** effective management of client expectations, relationship, and trust * independent ownership of objectives, milestones, and deadlines for success * effective leadership and collaboration of internal and external project teams * clear and concise client-facing communication * success within a dynamic and adaptable environment dependent on unique client needs * driven inquisitive mindset and appetite for challenge **compensation & benefits*** generous salary + bonus opportunity * company paid health insurance * company paid vision insurance * company paid life insurance * 401k with 3% company contribution (traditional & roth options) * flexible vacation policy * annual company retreat #### **salary** $105,000 - $135,000 per year\\n'], 'input_ids': [[24361, 25, 14026, 502, 546, 15101, 12961, 16205, 14017, 21651, 415, 2292, 379, 45698, 8697, 1563, 198, 33706, 25, 11851, 25, 15101, 12961, 16205, 14017, 21651, 415, 198, 39154, 25, 45698, 8697, 1563, 198, 19221, 560, 25, 13343, 830, 13, 15, 12, 17059, 830, 13, 15, 11403, 198, 36510, 25, 3363, 198, 11213, 25, 374, 2304, 4122, 318, 6095, 257, 23355, 45206, 351, 262, 2694, 284, 1833, 290, 1085, 5456, 31335, 4056, 290, 15221, 379, 281, 15321, 6276, 1241, 13, 44386, 12429, 11213, 1174, 12429, 10755, 262, 1664, 1174, 374, 2304, 4122, 318, 257, 5212, 12, 11990, 11, 8902, 3957, 290, 3756, 31335, 290, 11846, 47827, 4081, 13, 356, 389, 257, 5381, 12, 47095, 1074, 286, 5924, 11153, 326, 2962, 319, 32029, 33681, 351, 674, 7534, 284, 25625, 1096, 2324, 290, 11846, 13675, 351, 1597, 1943, 13, 356, 389, 2045, 329, 12356, 11153, 11, 15347, 546, 262, 2831, 11, 284, 4654, 674, 1074, 290, 787, 257, 11570, 2928, 287, 262, 2831, 13, 356, 1988, 12948, 9025, 11, 2614, 3349, 11, 4673, 290, 6229, 3255, 13, 356, 1975, 326, 618, 356, 389, 379, 674, 1266, 11, 356, 2148, 262, 749, 1988, 284, 674, 7534, 290, 674, 13107, 8148, 13, 389, 345, 2045, 284, 36830, 534, 3451, 30, 466, 345, 765, 6443, 329, 3349, 290, 5531, 30, 466, 345, 423, 281, 39365, 20527, 30, 12429, 2539, 15171, 25, 1174, 374, 2304, 4122, 318, 6095, 257, 23355, 45206, 351, 262, 2694, 284, 1833, 290, 1085, 5456, 31335, 4056, 290, 15221, 379, 281, 15321, 6276, 1241, 13, 355, 257, 1635]], 'attention_mask': [[1, 1, 1, 1, 1, 1, 1, 1, 1, 1, 1, 1, 1, 1, 1, 1, 1, 1, 1, 1, 1, 1, 1, 1, 1, 1, 1, 1, 1, 1, 1, 1, 1, 1, 1, 1, 1, 1, 1, 1, 1, 1, 1, 1, 1, 1, 1, 1, 1, 1, 1, 1, 1, 1, 1, 1, 1, 1, 1, 1, 1, 1, 1, 1, 1, 1, 1, 1, 1, 1, 1, 1, 1, 1, 1, 1, 1, 1, 1, 1, 1, 1, 1, 1, 1, 1, 1, 1, 1, 1, 1, 1, 1, 1, 1, 1, 1, 1, 1, 1, 1, 1, 1, 1, 1, 1, 1, 1, 1, 1, 1, 1, 1, 1, 1, 1, 1, 1, 1, 1, 1, 1, 1, 1, 1, 1, 1, 1, 1, 1, 1, 1, 1, 1, 1, 1, 1, 1, 1, 1, 1, 1, 1, 1, 1, 1, 1, 1, 1, 1, 1, 1, 1, 1, 1, 1, 1, 1, 1, 1, 1, 1, 1, 1, 1, 1, 1, 1, 1, 1, 1, 1, 1, 1, 1, 1, 1, 1, 1, 1, 1, 1, 1, 1, 1, 1, 1, 1, 1, 1, 1, 1, 1, 1, 1, 1, 1, 1, 1, 1, 1, 1, 1, 1, 1, 1, 1, 1, 1, 1, 1, 1, 1, 1, 1, 1, 1, 1, 1, 1, 1, 1, 1, 1, 1, 1, 1, 1, 1, 1, 1, 1, 1, 1, 1, 1, 1, 1, 1, 1, 1, 1, 1, 1, 1, 1, 1, 1, 1, 1, 1, 1, 1, 1, 1, 1]]}\n"
     ]
    }
   ],
   "source": [
    "print(dataset[:1])"
   ]
  },
  {
   "cell_type": "code",
   "execution_count": null,
   "metadata": {},
   "outputs": [
    {
     "name": "stderr",
     "output_type": "stream",
     "text": [
      "No label_names provided for model class `PeftModelForCausalLM`. Since `PeftModel` hides base models input arguments, if label_names is not given, label_names can't be set automatically within `Trainer`. Note that empty label_names list will be used instead.\n"
     ]
    }
   ],
   "source": [
    "accelerator = Accelerator()\n",
    "training_args = TrainingArguments(\n",
    "    output_dir=\"./phi2-jobs\",\n",
    "    per_device_train_batch_size=2,\n",
    "    gradient_accumulation_steps=8,\n",
    "    num_train_epochs=2,\n",
    "    learning_rate=1e-4,\n",
    "    fp16=True,\n",
    "    save_total_limit=3,\n",
    "    # save_steps=500, \n",
    "    logging_steps=100,\n",
    "    report_to=\"tensorboard\",\n",
    "    optim=\"adamw_bnb_8bit\",\n",
    "    # load_best_model_at_end=True,  # Automatically load the best model\n",
    "    # metric_for_best_model=\"eval_loss\",  # Metric to track for the best model\n",
    "    # greater_is_better=False  # For loss, we want to minimize it# 8-bit optimizer\n",
    ")\n",
    "\n",
    "trainer = accelerator.prepare(\n",
    "    Trainer(\n",
    "        model=model,\n",
    "        args=training_args,\n",
    "        train_dataset=dataset,\n",
    "        data_collator=DataCollatorForLanguageModeling(tokenizer, mlm=False)\n",
    "    )\n",
    ") \n",
    "\n"
   ]
  },
  {
   "cell_type": "code",
   "execution_count": 11,
   "metadata": {},
   "outputs": [
    {
     "name": "stderr",
     "output_type": "stream",
     "text": [
      "c:\\Users\\pulus\\anaconda3\\envs\\sql_llm\\Lib\\site-packages\\bitsandbytes\\nn\\modules.py:451: UserWarning: Input type into Linear4bit is torch.float16, but bnb_4bit_compute_dtype=torch.float32 (default). This will lead to slow inference or training speed.\n",
      "  warnings.warn(\n"
     ]
    },
    {
     "data": {
      "text/html": [
       "\n",
       "    <div>\n",
       "      \n",
       "      <progress value='62' max='62' style='width:300px; height:20px; vertical-align: middle;'></progress>\n",
       "      [62/62 30:34, Epoch 1/2]\n",
       "    </div>\n",
       "    <table border=\"1\" class=\"dataframe\">\n",
       "  <thead>\n",
       " <tr style=\"text-align: left;\">\n",
       "      <th>Step</th>\n",
       "      <th>Training Loss</th>\n",
       "    </tr>\n",
       "  </thead>\n",
       "  <tbody>\n",
       "  </tbody>\n",
       "</table><p>"
      ],
      "text/plain": [
       "<IPython.core.display.HTML object>"
      ]
     },
     "metadata": {},
     "output_type": "display_data"
    },
    {
     "data": {
      "text/plain": [
       "TrainOutput(global_step=62, training_loss=2.4327599310105845, metrics={'train_runtime': 1865.3993, 'train_samples_per_second': 0.536, 'train_steps_per_second': 0.033, 'total_flos': 4006632436531200.0, 'train_loss': 2.4327599310105845, 'epoch': 1.96})"
      ]
     },
     "execution_count": 11,
     "metadata": {},
     "output_type": "execute_result"
    }
   ],
   "source": [
    "trainer.train()"
   ]
  }
 ],
 "metadata": {
  "kernelspec": {
   "display_name": "sql_llm",
   "language": "python",
   "name": "python3"
  },
  "language_info": {
   "codemirror_mode": {
    "name": "ipython",
    "version": 3
   },
   "file_extension": ".py",
   "mimetype": "text/x-python",
   "name": "python",
   "nbconvert_exporter": "python",
   "pygments_lexer": "ipython3",
   "version": "3.11.11"
  }
 },
 "nbformat": 4,
 "nbformat_minor": 2
}
